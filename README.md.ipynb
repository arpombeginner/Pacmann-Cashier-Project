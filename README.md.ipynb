{
 "cells": [
  {
   "cell_type": "markdown",
   "id": "64bf08d6",
   "metadata": {},
   "source": [
    "# Cashier Project"
   ]
  },
  {
   "cell_type": "markdown",
   "id": "2f69bdae",
   "metadata": {},
   "source": [
    "## A. Background Project\n",
    "Andi adalah seorang pemilik supermarket besar di salah satu kota di indonesia. Andi memiliki rencana untuk melakukan perbaikan proses bisnis, yaitu Andi akan membuat sistem kasir yang self-service di supermarket miliknya. Sehingga customer bisa langsung meemasukkan item yang dibeli, jumlah item yang dibeli, dan harga item yang dibeli dan fitur yang lain.\n",
    "Sehingga customer yang tidak berada di kota tersebut bisa membeli barang dari supermarket tersebut. Setelah Andi melakukan riset, ternyata Andi memiliki masalah, yaitu Andi membutuhkan Programmer untuk membuatkan fitur-fitur agar bisa sistem kasir self-servce di supermarket itu bisa berjalan lancar"
   ]
  },
  {
   "cell_type": "markdown",
   "id": "5994aebb",
   "metadata": {},
   "source": [
    "## B. Feature Requirements\n"
   ]
  },
  {
   "cell_type": "markdown",
   "id": "f4faff07",
   "metadata": {},
   "source": []
  }
 ],
 "metadata": {
  "kernelspec": {
   "display_name": "Python 3 (ipykernel)",
   "language": "python",
   "name": "python3"
  },
  "language_info": {
   "codemirror_mode": {
    "name": "ipython",
    "version": 3
   },
   "file_extension": ".py",
   "mimetype": "text/x-python",
   "name": "python",
   "nbconvert_exporter": "python",
   "pygments_lexer": "ipython3",
   "version": "3.9.12"
  }
 },
 "nbformat": 4,
 "nbformat_minor": 5
}
